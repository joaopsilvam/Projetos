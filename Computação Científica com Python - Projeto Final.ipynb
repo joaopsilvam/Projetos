{
 "cells": [
  {
   "cell_type": "markdown",
   "metadata": {},
   "source": [
    "![title](img/ufpb.)\n",
    "# <center>Computação Científica com Python - Projeto Final</center>\n",
    "## <center>Uma estimação do crescimento das taxas de violência contra a mulher no Brasil.</center>\n",
    "### <center>João Paulo Silva Martins - 20170107286</center>\n",
    "\n",
    "## Introdução\n",
    "\n",
    "A violência contra a mulher é um problema social, ético e cultural que atinge praticamente toda a população mundial. Desde a formação dos primeiros grupos de convívio humano, a entidade feminina é tratada, de maneira erronea, como um ser frágil e incapaz, quando comparada à figura masculina, o que em muitos casos, leva à algumas pessoas do segundo grupo, a ideia de superioridade.\n",
    "\n",
    "## Desenvolvimento\n",
    "\n",
    "A fim de corroborar as informações apresentadas sobre o assunto em questão, se fez necessária uma análise de dados que pudesse representar situações que envolvam o número de casos de violência reportados diariamente no Brasil. Diante disso, é inviável utilizar dados que representem toda a população brasileira, por isso a análise foi realizada a partir de uma amostra para o número de casos ocorridos no Distrito Federal nos anos de 2018 e 2019, de maneira a permitir uma previsão da taxa de crescimento/decrescimento para o ano de 2020."
   ]
  },
  {
   "cell_type": "markdown",
   "metadata": {},
   "source": [
    "## Referências\n",
    "\n",
    "SILVA, L. E. L. OLIVEIRA, M. L. C. **Violência contra a mulher:** revisão sistemática da produção científica nacional no período de 2009 a 2013. SciELO, 2015. Disponível em: <https://www.scielosp.org/article/csc/2015.v20n11/3523-3532/>. Acesso em: 13, Agosto de 2020."
   ]
  },
  {
   "cell_type": "code",
   "execution_count": null,
   "metadata": {},
   "outputs": [],
   "source": []
  }
 ],
 "metadata": {
  "kernelspec": {
   "display_name": "Python 3",
   "language": "python",
   "name": "python3"
  },
  "language_info": {
   "codemirror_mode": {
    "name": "ipython",
    "version": 3
   },
   "file_extension": ".py",
   "mimetype": "text/x-python",
   "name": "python",
   "nbconvert_exporter": "python",
   "pygments_lexer": "ipython3",
   "version": "3.7.8"
  }
 },
 "nbformat": 4,
 "nbformat_minor": 4
}
